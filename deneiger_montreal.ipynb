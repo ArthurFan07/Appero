{
 "cells": [
  {
   "cell_type": "markdown",
   "id": "83188e5f",
   "metadata": {},
   "source": [
    "# <center> Déneiger Montréal\n",
    "\n",
    "Le but de ce projet est de pouvoir déneiger Montréal avec le plus faible coûts possible.\n",
    "    \n",
    "## Partie 1: Étude cas théorique\n",
    "\n",
    "Nous avons pour but de déneiger Montréal avec le plus faible coûts possible. Pour cela, nous avons à disposition un drone, 2200 appareils ainsi que 3000 employés.\n",
    "    \n",
    "Pour ce faire, nous allons découper notre problème en différentes parties:\n",
    "- Récupérer le graphe de Montréal\n",
    "- Rendre le graphe eulérien\n",
    "- Trouver le plus court chemin pour le parcours du drone dans un graphe non-orienté\n",
    "- Construire un sous-graphe avec seulement les rues enneigés et ajouter des arrêtes pour les rues enneigés et isolés (si toutes les rues ne sont pas enneigés)\n",
    "- Découper le sous-graphes en fonctions du nombre de déneigeuses utilisés\n",
    "- Trouver le plus court chemin pour chaque déneigeuse dans un graphe orienté\n",
    "    \n",
    "### Récupération du graph de Montréal"
   ]
  },
  {
   "cell_type": "code",
   "execution_count": 83,
   "id": "f8b78fb1",
   "metadata": {},
   "outputs": [],
   "source": [
    "import osmnx as ox\n",
    "import numpy as np\n",
    "import networkx as nx\n",
    "import matplotlib.pyplot as plt\n",
    "import math\n",
    "import itertools"
   ]
  },
  {
   "cell_type": "code",
   "execution_count": 66,
   "id": "883c321c",
   "metadata": {},
   "outputs": [
    {
     "name": "stdout",
     "output_type": "stream",
     "text": [
      "CPU times: user 28.2 s, sys: 2.29 s, total: 30.5 s\n",
      "Wall time: 41.2 s\n"
     ]
    }
   ],
   "source": [
    "%%time\n",
    "G = ox.graph_from_place('Paris, France', network_type='drive')"
   ]
  },
  {
   "cell_type": "code",
   "execution_count": 24,
   "id": "f72bfab9",
   "metadata": {},
   "outputs": [
    {
     "name": "stderr",
     "output_type": "stream",
     "text": [
      "IOPub data rate exceeded.\n",
      "The notebook server will temporarily stop sending output\n",
      "to the client in order to avoid crashing it.\n",
      "To change this limit, set the config variable\n",
      "`--NotebookApp.iopub_data_rate_limit`.\n",
      "\n",
      "Current values:\n",
      "NotebookApp.iopub_data_rate_limit=1000000.0 (bytes/sec)\n",
      "NotebookApp.rate_limit_window=3.0 (secs)\n",
      "\n"
     ]
    }
   ],
   "source": [
    "%%time \n",
    "nodes = list(G.nodes)\n",
    "edges = list(G.edges(data=True))\n",
    "\n",
    "print(nodes)\n",
    "print(edges)"
   ]
  },
  {
   "cell_type": "markdown",
   "id": "00ca28a5",
   "metadata": {},
   "source": [
    "Comme nous pouvons le constater, le graphe de Montréal est un petit peu trop grand. Ainsi nous utiliserons un graphe d'un quartier de Montréal pour tester. Nous pouvons également utiliser d'autres villes qui sont plus petites que Montréal."
   ]
  },
  {
   "cell_type": "code",
   "execution_count": 124,
   "id": "140e4322",
   "metadata": {},
   "outputs": [
    {
     "name": "stdout",
     "output_type": "stream",
     "text": [
      "CPU times: user 1.66 s, sys: 205 ms, total: 1.87 s\n",
      "Wall time: 3.32 s\n"
     ]
    }
   ],
   "source": [
    "%%time \n",
    "G = ox.graph_from_place('Griffintown, Montréal, Canada', network_type='drive')\n",
    "nodes = list(G.nodes)\n",
    "edges = list(G.edges(data=True))\n",
    "\n",
    "edges_list = []\n",
    "for (x, y, info) in edges:\n",
    "    edges_list.append((nodes.index(x), nodes.index(y), info[\"length\"]))\n"
   ]
  },
  {
   "cell_type": "markdown",
   "id": "a0e7af3c",
   "metadata": {},
   "source": [
    "### Rendre le graphe eulerien"
   ]
  },
  {
   "cell_type": "code",
   "execution_count": 38,
   "id": "d55987ee",
   "metadata": {},
   "outputs": [],
   "source": [
    "def find_combination_odd_nodes(nodes):\n",
    "    res = []\n",
    "    for x in nodes:\n",
    "        for y in nodes:\n",
    "            if x != y and (x, y) not in res and (y, x) not in res:\n",
    "                res.append((x, y))\n",
    "    return res\n",
    "\n",
    "\n",
    "def find_edge(edge_list, x, y):\n",
    "    res = None\n",
    "    for (a, b, w) in edge_list:\n",
    "        if (a == x and b == y) or (a == y and b == x):\n",
    "            res = (a, b, w)\n",
    "    return res\n",
    "\n",
    "\n",
    "def make_eulerian(num_vertices, edge_list, odd_vert_list):\n",
    "    list_comb = find_combination_odd_nodes(odd_vert_list)\n",
    "    reslist = []\n",
    "    for (a, b) in list_comb:\n",
    "        d = [a, b]\n",
    "        d.extend(dijkstra(num_vertices, edge_list, a, b))\n",
    "        reslist.append(tuple(d))\n",
    "\n",
    "    new_edge_list = edge_list.copy()\n",
    "\n",
    "    # sort by the cost\n",
    "    reslist.sort(key=lambda tup: tup[2])\n",
    "\n",
    "    while reslist:\n",
    "        i = 0\n",
    "        len_reslist = len(reslist[0][3]) - 1\n",
    "\n",
    "        # append new edges (duplicating edge)\n",
    "        while i < len_reslist:\n",
    "            (a, b) = (reslist[0][3][i], reslist[0][3][i + 1])\n",
    "            new_edge_list.append(find_edge(edge_list, a, b))\n",
    "            i += 1\n",
    "\n",
    "        # remove all tuple with x and y from reslist[0]\n",
    "        reslist = [ elm for elm in reslist \n",
    "                   if reslist[0][0] not in elm[0:2] and reslist[0][1] not in elm[0:2]]\n",
    "    return new_edge_list\n"
   ]
  },
  {
   "cell_type": "code",
   "execution_count": 67,
   "id": "830b83cf",
   "metadata": {},
   "outputs": [],
   "source": [
    "def adjacent(n, edges):\n",
    "    res = [[] for i in range(n)]\n",
    "    for (x, y, w) in edges:\n",
    "        res[x].append((y, w))\n",
    "        res[y].append((x, w))\n",
    "    return res\n",
    "\n",
    "\n",
    "def dijkstra(n, edges, src, dst):\n",
    "    if n == 0 or edges == []:\n",
    "        return math.inf\n",
    "\n",
    "    if src == dst:\n",
    "        return 0\n",
    "\n",
    "    adj = adjacent(n, edges)\n",
    "\n",
    "    parents = [-1] * n\n",
    "    dist = [math.inf] * n\n",
    "    visit = [False] * n\n",
    "\n",
    "    dist[src] = 0\n",
    "    q = [src]\n",
    "\n",
    "    while q:\n",
    "        x = q.pop(0)\n",
    "        for y, w in adj[x]:\n",
    "            if dist[y] > dist[x] + w:\n",
    "                dist[y] = dist[x] + w\n",
    "                parents[y] = x\n",
    "\n",
    "            if not visit[y]:\n",
    "                visit[y] = True\n",
    "                q.append(y)\n",
    "\n",
    "    i = dst\n",
    "    res = []\n",
    "\n",
    "    while parents[i] != -1:\n",
    "        res.insert(0, i)\n",
    "        i = parents[i]\n",
    "\n",
    "    res.insert(0, i)\n",
    "\n",
    "    return (dist[dst], res)\n",
    "\n",
    "\n",
    "# def floyd_warshall(n, edges):\n",
    "#     m = [[math.inf for i in range(n)] for j in range(n)]\n",
    "#     next = [[-1 for i in range(n)] for j in range(n)]\n",
    "\n",
    "#     for (i, j, w) in edges:\n",
    "#         m[i][j] = w\n",
    "#         next[i][j] = j\n",
    "\n",
    "#     for k in range(n):\n",
    "#         for i in range(n):\n",
    "#             for j in range(n):\n",
    "#                 if i == j:\n",
    "#                     m[i][j] = 0\n",
    "#                     next[i][j] = i\n",
    "\n",
    "#                 elif m[i][j] > m[i][k] + m[k][j]:\n",
    "#                     m[i][j] = m[i][k] + m[k][j]\n",
    "#                     next[i][j] = next[i][k]\n",
    "#     return m, next\n",
    "\n",
    "\n",
    "def find_path(u, v, next):\n",
    "    if next[u][v] == -1:\n",
    "        return []\n",
    "\n",
    "    res = [u]\n",
    "    while u != v:\n",
    "        u = next[u][v]\n",
    "        res.append(u)\n",
    "\n",
    "    return res\n"
   ]
  },
  {
   "cell_type": "markdown",
   "id": "170c82f6",
   "metadata": {},
   "source": [
    "### Trouver le plus court chemin"
   ]
  },
  {
   "cell_type": "code",
   "execution_count": 43,
   "id": "34e1a8a2",
   "metadata": {},
   "outputs": [],
   "source": [
    "def find_eulerian_cycle(n, edges):\n",
    "    if n == 0 or edges == []:\n",
    "        return []\n",
    "\n",
    "    adj = [[] for x in range(n)]\n",
    "\n",
    "    for (x, y, w) in edges:\n",
    "        adj[x].append(y)\n",
    "        adj[y].append(x)\n",
    "\n",
    "    edges_count = dict()\n",
    "    for i in range(n):\n",
    "        edges_count[i] = len(adj[i])\n",
    "\n",
    "    curr = [0]\n",
    "    res = []\n",
    "    tmp_curr = 0\n",
    "\n",
    "    while len(curr):\n",
    "        if edges_count[tmp_curr]:\n",
    "            curr.append(tmp_curr)\n",
    "            next = adj[tmp_curr].pop()\n",
    "            adj[next].remove(tmp_curr)\n",
    "\n",
    "            edges_count[tmp_curr] -= 1\n",
    "            edges_count[next] -= 1\n",
    "            tmp_curr = next\n",
    "        else:\n",
    "            res.append(tmp_curr)\n",
    "            tmp_curr = curr.pop()\n",
    "\n",
    "    return res[::-1]"
   ]
  },
  {
   "cell_type": "code",
   "execution_count": 44,
   "id": "156e64a7",
   "metadata": {},
   "outputs": [],
   "source": [
    "def solve(num_vertices, edge_list):\n",
    "    odd_vert_list = odd_vertices(num_vertices, edge_list)\n",
    "    \n",
    "    if len(odd_vert_list) == 0:\n",
    "        return find_eulerian_cycle(num_vertices, edge_list)\n",
    "\n",
    "    new_edge_list = make_eulerian(num_vertices, edge_list, odd_vert_list)\n",
    "\n",
    "    return find_eulerian_cycle(num_vertices, new_edge_list)"
   ]
  },
  {
   "cell_type": "code",
   "execution_count": 125,
   "id": "9f857a59",
   "metadata": {},
   "outputs": [
    {
     "name": "stdout",
     "output_type": "stream",
     "text": [
      "(86, [(0, 55), (55, 56), (56, 10), (10, 56), (56, 9), (9, 67), (67, 75), (75, 74), (74, 54), (54, 67), (67, 9), (9, 8), (8, 55), (55, 8), (8, 54), (54, 74), (74, 53), (53, 73), (73, 53), (53, 65), (65, 52), (52, 65), (65, 75), (75, 17), (17, 42), (42, 32), (32, 31), (31, 42), (42, 32), (32, 33), (33, 16), (16, 33), (33, 34), (34, 15), (15, 14), (14, 13), (13, 12), (12, 47), (47, 11), (11, 58), (58, 76), (76, 58), (58, 39), (39, 72), (72, 39), (39, 77), (77, 76), (76, 70), (70, 82), (82, 70), (70, 46), (46, 11), (11, 47), (47, 38), (38, 37), (37, 12), (12, 13), (13, 36), (36, 6), (6, 83), (83, 48), (48, 83), (83, 51), (51, 50), (50, 80), (80, 63), (63, 80), (80, 5), (5, 51), (51, 5), (5, 81), (81, 4), (4, 81), (81, 34), (34, 35), (35, 36), (36, 37), (37, 7), (7, 48), (48, 71), (71, 78), (78, 71), (71, 49), (49, 45), (45, 84), (84, 45), (45, 79), (79, 45), (45, 49), (49, 78), (78, 66), (66, 38), (38, 39), (39, 77), (77, 2), (2, 66), (66, 7), (7, 6), (6, 5), (5, 35), (35, 14), (14, 15), (15, 16), (16, 52), (52, 17), (17, 29), (29, 30), (30, 31), (31, 43), (43, 57), (57, 44), (44, 57), (57, 85), (85, 32), (32, 85), (85, 4), (4, 63), (63, 3), (3, 4), (4, 44), (44, 43), (43, 60), (60, 27), (27, 28), (28, 64), (64, 41), (41, 62), (62, 41), (41, 59), (59, 21), (21, 59), (59, 40), (40, 61), (61, 22), (22, 61), (61, 62), (62, 69), (69, 68), (68, 69), (69, 23), (23, 22), (22, 19), (19, 18), (18, 19), (19, 22), (22, 23), (23, 20), (20, 68), (68, 64), (64, 21), (21, 27), (27, 60), (60, 26), (26, 28), (28, 24), (24, 20), (20, 24), (24, 25), (25, 0), (0, 25), (25, 26), (26, 1), (1, 29), (29, 30), (30, 1), (1, 10), (10, 0)])\n"
     ]
    }
   ],
   "source": [
    "print(solve(len(nodes), edges_list))\n",
    "# nx.draw(G)\n",
    "# plt.show()"
   ]
  },
  {
   "cell_type": "markdown",
   "id": "61581da6",
   "metadata": {},
   "source": [
    "Dans cette partie, nous avons utilisé le drone. Ainsi, nous avons utilisé un graphe non orienté et déterminé le chemin eulerien."
   ]
  },
  {
   "cell_type": "markdown",
   "id": "6ed6b275",
   "metadata": {},
   "source": [
    "### Découpage de Montréal\n",
    "\n",
    "Pour le cas théorique, nous n'arrivons pas à trouver une solution afin de découper Montréal."
   ]
  },
  {
   "cell_type": "markdown",
   "id": "3a434a0a",
   "metadata": {},
   "source": [
    "## Cas Pratique\n",
    "\n",
    "Dans le cas pratique, nous allons découper Montréal par quartier. Ainsi on récuperera tout simplement chaque quartier auquel nous appliquerons le problème du postier chinois orienté.\n",
    "On utilise un graphe orienté car les dénegeuse ne passent que une seule fois dans les rues pour les déneiger et qu'il y a un sens dans les rues même si les déneigeuse ne passent que une seule fois dans les rues à double sens."
   ]
  },
  {
   "cell_type": "markdown",
   "id": "8e617c0d",
   "metadata": {},
   "source": [
    "### Problème du postier chinois orienté"
   ]
  },
  {
   "cell_type": "code",
   "execution_count": 121,
   "id": "7ac6f8a7",
   "metadata": {},
   "outputs": [],
   "source": [
    "def print_graph(G):\n",
    "    options = {\n",
    "      'node_color' : 'red',\n",
    "      'node_size'  : 300,\n",
    "      'edge_color' : 'tab:grey',\n",
    "      'with_labels': True\n",
    "    }\n",
    "    plt.figure()\n",
    "    nx.draw(G, **options)\n",
    "    plt.show()"
   ]
  },
  {
   "cell_type": "code",
   "execution_count": 122,
   "id": "ea4143a5",
   "metadata": {},
   "outputs": [],
   "source": [
    "def solvePractical(num_vertices, edge_list):\n",
    "    G = nx.Graph()\n",
    "    for u, v, w in edge_list:\n",
    "        G.add_edge(u, v, weight=w)\n",
    "    print_graph(G)\n",
    "\n",
    "    if G.is_directed() and not nx.is_weakly_connected(G):\n",
    "        raise nx.NetworkXError(\"G is not connected\")\n",
    "        \n",
    "    if not G.is_directed() and not nx.is_connected(G):\n",
    "        raise nx.NetworkXError(\"G is not connected\")\n",
    "\n",
    "    circuit = []\n",
    "    \n",
    "    if nx.is_eulerian(G):\n",
    "        circuit = [i for i in nx.eulerian_circuit(G)]\n",
    "    else:\n",
    "        G = nx.algorithms.euler.eulerize(G)\n",
    "        circuit = [i for i in nx.eulerian_circuit(G)]\n",
    "\n",
    "    return num_vertices, circuit"
   ]
  },
  {
   "cell_type": "code",
   "execution_count": 123,
   "id": "4655066f",
   "metadata": {},
   "outputs": [
    {
     "data": {
      "image/png": "[encoded data removed]",
      "text/plain": [
       "<Figure size 432x288 with 1 Axes>"
      ]
     },
     "metadata": {},
     "output_type": "display_data"
    },
    {
     "name": "stdout",
     "output_type": "stream",
     "text": [
      "CPU times: user 594 ms, sys: 230 ms, total: 823 ms\n",
      "Wall time: 1.03 s\n"
     ]
    },
    {
     "data": {
      "text/plain": [
       "(188,\n",
       " [(0, 55),\n",
       "  (55, 56),\n",
       "  (56, 10),\n",
       "  (10, 56),\n",
       "  (56, 9),\n",
       "  (9, 67),\n",
       "  (67, 75),\n",
       "  (75, 74),\n",
       "  (74, 54),\n",
       "  (54, 67),\n",
       "  (67, 9),\n",
       "  (9, 8),\n",
       "  (8, 55),\n",
       "  (55, 8),\n",
       "  (8, 54),\n",
       "  (54, 74),\n",
       "  (74, 53),\n",
       "  (53, 73),\n",
       "  (73, 53),\n",
       "  (53, 65),\n",
       "  (65, 52),\n",
       "  (52, 65),\n",
       "  (65, 75),\n",
       "  (75, 17),\n",
       "  (17, 42),\n",
       "  (42, 32),\n",
       "  (32, 31),\n",
       "  (31, 42),\n",
       "  (42, 32),\n",
       "  (32, 33),\n",
       "  (33, 16),\n",
       "  (16, 33),\n",
       "  (33, 34),\n",
       "  (34, 15),\n",
       "  (15, 14),\n",
       "  (14, 13),\n",
       "  (13, 12),\n",
       "  (12, 47),\n",
       "  (47, 11),\n",
       "  (11, 58),\n",
       "  (58, 76),\n",
       "  (76, 58),\n",
       "  (58, 39),\n",
       "  (39, 72),\n",
       "  (72, 39),\n",
       "  (39, 77),\n",
       "  (77, 76),\n",
       "  (76, 70),\n",
       "  (70, 82),\n",
       "  (82, 70),\n",
       "  (70, 46),\n",
       "  (46, 11),\n",
       "  (11, 47),\n",
       "  (47, 38),\n",
       "  (38, 37),\n",
       "  (37, 12),\n",
       "  (12, 13),\n",
       "  (13, 36),\n",
       "  (36, 6),\n",
       "  (6, 83),\n",
       "  (83, 48),\n",
       "  (48, 83),\n",
       "  (83, 51),\n",
       "  (51, 50),\n",
       "  (50, 80),\n",
       "  (80, 63),\n",
       "  (63, 80),\n",
       "  (80, 5),\n",
       "  (5, 51),\n",
       "  (51, 5),\n",
       "  (5, 81),\n",
       "  (81, 4),\n",
       "  (4, 81),\n",
       "  (81, 34),\n",
       "  (34, 35),\n",
       "  (35, 36),\n",
       "  (36, 37),\n",
       "  (37, 7),\n",
       "  (7, 48),\n",
       "  (48, 71),\n",
       "  (71, 78),\n",
       "  (78, 71),\n",
       "  (71, 49),\n",
       "  (49, 45),\n",
       "  (45, 84),\n",
       "  (84, 45),\n",
       "  (45, 79),\n",
       "  (79, 45),\n",
       "  (45, 49),\n",
       "  (49, 78),\n",
       "  (78, 66),\n",
       "  (66, 38),\n",
       "  (38, 39),\n",
       "  (39, 77),\n",
       "  (77, 2),\n",
       "  (2, 66),\n",
       "  (66, 7),\n",
       "  (7, 6),\n",
       "  (6, 5),\n",
       "  (5, 35),\n",
       "  (35, 14),\n",
       "  (14, 15),\n",
       "  (15, 16),\n",
       "  (16, 52),\n",
       "  (52, 17),\n",
       "  (17, 29),\n",
       "  (29, 30),\n",
       "  (30, 31),\n",
       "  (31, 43),\n",
       "  (43, 57),\n",
       "  (57, 44),\n",
       "  (44, 57),\n",
       "  (57, 85),\n",
       "  (85, 32),\n",
       "  (32, 85),\n",
       "  (85, 4),\n",
       "  (4, 63),\n",
       "  (63, 3),\n",
       "  (3, 4),\n",
       "  (4, 44),\n",
       "  (44, 43),\n",
       "  (43, 60),\n",
       "  (60, 27),\n",
       "  (27, 28),\n",
       "  (28, 64),\n",
       "  (64, 41),\n",
       "  (41, 62),\n",
       "  (62, 41),\n",
       "  (41, 59),\n",
       "  (59, 21),\n",
       "  (21, 59),\n",
       "  (59, 40),\n",
       "  (40, 61),\n",
       "  (61, 22),\n",
       "  (22, 61),\n",
       "  (61, 62),\n",
       "  (62, 69),\n",
       "  (69, 68),\n",
       "  (68, 69),\n",
       "  (69, 23),\n",
       "  (23, 22),\n",
       "  (22, 19),\n",
       "  (19, 18),\n",
       "  (18, 19),\n",
       "  (19, 22),\n",
       "  (22, 23),\n",
       "  (23, 20),\n",
       "  (20, 68),\n",
       "  (68, 64),\n",
       "  (64, 21),\n",
       "  (21, 27),\n",
       "  (27, 60),\n",
       "  (60, 26),\n",
       "  (26, 28),\n",
       "  (28, 24),\n",
       "  (24, 20),\n",
       "  (20, 24),\n",
       "  (24, 25),\n",
       "  (25, 0),\n",
       "  (0, 25),\n",
       "  (25, 26),\n",
       "  (26, 1),\n",
       "  (1, 29),\n",
       "  (29, 30),\n",
       "  (30, 1),\n",
       "  (1, 10),\n",
       "  (10, 0)])"
      ]
     },
     "execution_count": 123,
     "metadata": {},
     "output_type": "execute_result"
    }
   ],
   "source": [
    "%%time\n",
    "solvePractical(len(edges), edges_list)"
   ]
  },
  {
   "cell_type": "code",
   "execution_count": null,
   "id": "b21496b0",
   "metadata": {},
   "outputs": [],
   "source": []
  }
 ],
 "metadata": {
  "kernelspec": {
   "display_name": "Python 3",
   "language": "python",
   "name": "python3"
  },
  "language_info": {
   "codemirror_mode": {
    "name": "ipython",
    "version": 3
   },
   "file_extension": ".py",
   "mimetype": "text/x-python",
   "name": "python",
   "nbconvert_exporter": "python",
   "pygments_lexer": "ipython3",
   "version": "3.9.5"
  }
 },
 "nbformat": 4,
 "nbformat_minor": 5
}
